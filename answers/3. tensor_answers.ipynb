{
 "cells": [
  {
   "cell_type": "code",
   "execution_count": 2,
   "metadata": {},
   "outputs": [],
   "source": [
    "import numpy as np\n",
    "from PIL import Image"
   ]
  },
  {
   "cell_type": "markdown",
   "metadata": {},
   "source": [
    "# Tensors\n",
    "\n",
    "In the first notebook ([vector.ipynb](https://github.com/ADGEfficiency/teaching-monolith/blob/master/numpy/1.vector.ipynb)) we dealt with vectors (one dimensional).  In the second notebook ([matrix.ipynb](https://github.com/ADGEfficiency/teaching-monolith/blob/master/numpy/2.matrix.ipynb)) we looked at arrays with two dimensions.\n",
    "\n",
    "Now we deal with **Tensors** - arrays that can have many dimensions.\n",
    "\n",
    "- n-dimensional arrays\n",
    "- 3 = volume\n",
    "- uppercase, bold $\\textbf{A}_{i,j,k}$\n",
    "\n",
    "## Working in three dimensions\n",
    "\n",
    "Extension of two dimensions\n",
    "- everything we saw in the previous notebook holds\n",
    "\n",
    "Images\n",
    "- height\n",
    "- width\n",
    "- channels (colors)\n",
    "\n",
    "Sequential models\n",
    "- (batch_size, num_timesteps, *features)"
   ]
  },
  {
   "cell_type": "code",
   "execution_count": 3,
   "metadata": {},
   "outputs": [
    {
     "data": {
      "text/plain": [
       "array([[[0.35445756, 0.57100472, 0.12962964],\n",
       "        [0.30976495, 0.38443955, 0.59381969],\n",
       "        [0.78522261, 0.28458695, 0.13489331]],\n",
       "\n",
       "       [[0.3106807 , 0.97396757, 0.51119909],\n",
       "        [0.86157668, 0.57384891, 0.55736896],\n",
       "        [0.87834193, 0.81159439, 0.44542802]],\n",
       "\n",
       "       [[0.80132203, 0.7422942 , 0.41795611],\n",
       "        [0.17815882, 0.21454898, 0.08734494],\n",
       "        [0.81380985, 0.17232147, 0.33822778]]])"
      ]
     },
     "execution_count": 3,
     "metadata": {},
     "output_type": "execute_result"
    }
   ],
   "source": [
    "tensor = np.random.rand(3, 3, 3)\n",
    "tensor"
   ]
  },
  {
   "cell_type": "markdown",
   "metadata": {},
   "source": [
    "## PNG to Numpy array"
   ]
  },
  {
   "cell_type": "code",
   "execution_count": 5,
   "metadata": {},
   "outputs": [],
   "source": [
    "# for class: from the main notebook/root directory:\n",
    "# img = Image.open(\"./data/abbyroad.png\")\n",
    "# to open from the answers folder directory:\n",
    "img = Image.open(\"../data/abbyroad.png\")\n",
    "img.show()"
   ]
  },
  {
   "cell_type": "markdown",
   "metadata": {},
   "source": [
    "To see how this picture looks like in RGB code, we apply the following function:"
   ]
  },
  {
   "cell_type": "code",
   "execution_count": 6,
   "metadata": {},
   "outputs": [
    {
     "data": {
      "text/plain": [
       "array([[[ 15,  13,  16],\n",
       "        [ 15,  13,  16],\n",
       "        [ 15,  13,  16],\n",
       "        ...,\n",
       "        [ 20,  20,  20],\n",
       "        [ 17,  17,  15],\n",
       "        [ 16,  16,  14]],\n",
       "\n",
       "       [[ 16,  14,  17],\n",
       "        [ 16,  14,  17],\n",
       "        [ 16,  14,  17],\n",
       "        ...,\n",
       "        [ 21,  21,  21],\n",
       "        [ 20,  20,  18],\n",
       "        [ 20,  20,  18]],\n",
       "\n",
       "       [[ 17,  15,  18],\n",
       "        [ 17,  15,  18],\n",
       "        [ 16,  14,  17],\n",
       "        ...,\n",
       "        [ 20,  22,  19],\n",
       "        [ 21,  23,  20],\n",
       "        [ 22,  24,  21]],\n",
       "\n",
       "       ...,\n",
       "\n",
       "       [[202, 194, 171],\n",
       "        [199, 191, 168],\n",
       "        [196, 189, 163],\n",
       "        ...,\n",
       "        [205, 195, 159],\n",
       "        [209, 199, 163],\n",
       "        [213, 203, 167]],\n",
       "\n",
       "       [[201, 193, 170],\n",
       "        [197, 189, 166],\n",
       "        [195, 188, 162],\n",
       "        ...,\n",
       "        [206, 198, 161],\n",
       "        [208, 200, 163],\n",
       "        [213, 205, 168]],\n",
       "\n",
       "       [[200, 192, 169],\n",
       "        [196, 188, 165],\n",
       "        [194, 187, 161],\n",
       "        ...,\n",
       "        [209, 201, 164],\n",
       "        [210, 202, 165],\n",
       "        [214, 206, 169]]], dtype=uint8)"
      ]
     },
     "execution_count": 6,
     "metadata": {},
     "output_type": "execute_result"
    }
   ],
   "source": [
    "array = np.array(img)\n",
    "array"
   ]
  },
  {
   "cell_type": "markdown",
   "metadata": {},
   "source": [
    "## Practical\n",
    "Now create the negative version and grayscale version of that picture and save it in the data folder"
   ]
  },
  {
   "cell_type": "code",
   "execution_count": 6,
   "metadata": {},
   "outputs": [],
   "source": [
    "# answer below"
   ]
  },
  {
   "cell_type": "code",
   "execution_count": 15,
   "metadata": {},
   "outputs": [],
   "source": [
    "# answer below"
   ]
  },
  {
   "cell_type": "markdown",
   "metadata": {},
   "source": [
    "## Answers\n",
    "You are encourage to give it a try before you look at the solution"
   ]
  },
  {
   "cell_type": "code",
   "execution_count": null,
   "metadata": {},
   "outputs": [],
   "source": [
    "# Inverse Color\n",
    "def inverse_color(png_array):\n",
    "    # Creating the inverse of the RGB color code\n",
    "    inverse_array = 255 - png_array\n",
    "    invimg = Image.fromarray(inverse_array)\n",
    "    invimg.save('../data/inverted.png')\n",
    "    invimg.show()"
   ]
  },
  {
   "cell_type": "code",
   "execution_count": null,
   "metadata": {},
   "outputs": [],
   "source": [
    "# Grayscale Picture\n",
    "def grayscale(png_array):\n",
    "    def rgb2gray(rgb):\n",
    "        return np.dot(rgb[...,:3], [0.2989, 0.5870, 0.1140])\n",
    "\n",
    "    black_white = rgb2gray(png_array)\n",
    "    invimg = Image.fromarray(black_white)\n",
    "    new_p = invimg.convert(\"L\")\n",
    "    new_p.save('../data/blackwhite.png')\n",
    "    new_p.show()"
   ]
  }
 ],
 "metadata": {
  "kernelspec": {
   "display_name": "Python 3 (ipykernel)",
   "language": "python",
   "name": "python3"
  },
  "language_info": {
   "codemirror_mode": {
    "name": "ipython",
    "version": 3
   },
   "file_extension": ".py",
   "mimetype": "text/x-python",
   "name": "python",
   "nbconvert_exporter": "python",
   "pygments_lexer": "ipython3",
   "version": "3.9.6"
  },
  "varInspector": {
   "cols": {
    "lenName": 16,
    "lenType": 16,
    "lenVar": 40
   },
   "kernels_config": {
    "python": {
     "delete_cmd_postfix": "",
     "delete_cmd_prefix": "del ",
     "library": "var_list.py",
     "varRefreshCmd": "print(var_dic_list())"
    },
    "r": {
     "delete_cmd_postfix": ") ",
     "delete_cmd_prefix": "rm(",
     "library": "var_list.r",
     "varRefreshCmd": "cat(var_dic_list()) "
    }
   },
   "types_to_exclude": [
    "module",
    "function",
    "builtin_function_or_method",
    "instance",
    "_Feature"
   ],
   "window_display": false
  }
 },
 "nbformat": 4,
 "nbformat_minor": 4
}
